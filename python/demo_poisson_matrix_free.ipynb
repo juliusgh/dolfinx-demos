{
 "cells": [
  {
   "cell_type": "markdown",
   "id": "6e85ad87",
   "metadata": {},
   "source": [
    "# Matrix-free Conjugate Gradient solver for the Poisson equation\n",
    "\n",
    "This demo is implemented in a single Python file,\n",
    "{download}`demo_poisson_matrix_free.py`, which contains both the\n",
    "variational forms and the solver. It illustrates how to:\n",
    "\n",
    "- Solve a linear partial differential equation using a matrix-free\n",
    "Conjugate Gradient (CG) solver\n",
    "- Create and apply Dirichlet boundary conditions\n",
    "- Compute errors against the exact solution and against a\n",
    "direct solver for the assembled matrix\n",
    "\n",
    "```{note}\n",
    "This demo illustrates the use of a matrix-free Conjugate Gradient\n",
    "solver. Many practical problems will also require a preconditioner\n",
    "to create an efficient solver. This is not covered here.\n",
    "```\n",
    "\n",
    "## Equation and problem definition\n",
    "\n",
    "For a domain $\\Omega \\subset \\mathbb{R}^n$ with boundary $\\partial\n",
    "\\Omega$, the Poisson equation with\n",
    "Dirichlet boundary conditions reads:\n",
    "\n",
    "$$\n",
    "\\begin{align}\n",
    "- \\nabla^{2} u &= f \\quad {\\rm in} \\ \\Omega, \\\\\n",
    "      u &= u_{\\rm D} \\; {\\rm on} \\ \\partial\\Omega.\n",
    "\\end{align}\n",
    "$$\n",
    "\n",
    "The variational problem reads: find $u \\in V$ such\n",
    "that\n",
    "\n",
    "$$\n",
    "a(u, v) = L(v) \\quad \\forall \\ v \\in V,\n",
    "$$\n",
    "\n",
    "where $V$ is a suitable function space and\n",
    "\n",
    "$$\n",
    "\\begin{align}\n",
    "a(u, v) &:= \\int_{\\Omega} \\nabla u \\cdot \\nabla v \\, {\\rm d} x, \\\\\n",
    "L(v)    &:= \\int_{\\Omega} f v \\, {\\rm d} x.\n",
    "\\end{align}\n",
    "$$\n",
    "\n",
    "The expression $a(u, v)$ is the bilinear form and $L(v)$\n",
    "is the linear form. It is assumed that all functions in $V$\n",
    "satisfy the Dirichlet boundary conditions ($u = u_{\\rm D} \\ {\\rm on} \\\n",
    "\\partial\\Omega$).\n",
    "\n",
    "In this demo we consider:\n",
    "\n",
    "- $\\Omega = [0,1] \\times [0,1]$ (a square)\n",
    "- $u_{\\rm D} = 1 + x^2 + 2y^2$\n",
    "- $f = -6$\n",
    "\n",
    "The function $u_{\\rm D}$ for the Dirichlet boundary condition is\n",
    "in this case also the exact solution of the posed problem.\n",
    "\n",
    "## Implementation\n",
    "\n",
    "The modules that will be used are imported:"
   ]
  },
  {
   "cell_type": "code",
   "execution_count": null,
   "id": "d0c8db3e",
   "metadata": {},
   "outputs": [],
   "source": [
    "import numpy as np"
   ]
  },
  {
   "cell_type": "code",
   "execution_count": null,
   "id": "8510f8d7",
   "metadata": {},
   "outputs": [],
   "source": [
    "import ufl\n",
    "from dolfinx import fem, mesh\n",
    "from ufl import action, dx, grad, inner"
   ]
  },
  {
   "cell_type": "code",
   "execution_count": null,
   "id": "afb073fc",
   "metadata": {},
   "outputs": [],
   "source": [
    "from mpi4py import MPI\n",
    "from petsc4py import PETSc\n",
    "from petsc4py.PETSc import ScalarType"
   ]
  },
  {
   "cell_type": "markdown",
   "id": "00c73a00",
   "metadata": {},
   "source": [
    "We begin by using {py:func}`create_rectangle\n",
    "<dolfinx.mesh.create_rectangle>` to create a rectangular\n",
    "{py:class}`Mesh <dolfinx.mesh.Mesh>` of the domain, and creating a\n",
    "finite element {py:class}`FunctionSpace <dolfinx.fem.FunctionSpace>`\n",
    "$V$ on the mesh."
   ]
  },
  {
   "cell_type": "code",
   "execution_count": null,
   "id": "e5a3a491",
   "metadata": {},
   "outputs": [],
   "source": [
    "msh = mesh.create_rectangle(comm=MPI.COMM_WORLD,\n",
    "                            points=((0.0, 0.0), (1.0, 1.0)), n=(10, 10),\n",
    "                            cell_type=mesh.CellType.triangle,\n",
    "                            ghost_mode=mesh.GhostMode.none)\n",
    "V = fem.FunctionSpace(msh, (\"Lagrange\", 2))"
   ]
  },
  {
   "cell_type": "markdown",
   "id": "3d5d34f9",
   "metadata": {},
   "source": [
    "The second argument to {py:class}`FunctionSpace\n",
    "<dolfinx.fem.FunctionSpace>` is a tuple consisting of `(family,\n",
    "degree)`, where `family` is the finite element family, and `degree`\n",
    "specifies the polynomial degree. In this case `V` consists of\n",
    "second-order, continuous Lagrange finite element functions.\n",
    "\n",
    "Next, we locate the mesh facets that lie on the\n",
    "domain boundary $\\partial\\Omega$.\n",
    "We can do this by first calling {py:func}`create_connectivity\n",
    "<dolfinx.mesh.topology.create_connectivity>` and then retrieving all\n",
    "facets on the boundary using\n",
    "{py:func}`exterior_facet_indices <dolfinx.mesh.exterior_facet_indices>`."
   ]
  },
  {
   "cell_type": "code",
   "execution_count": null,
   "id": "2cf6fee0",
   "metadata": {},
   "outputs": [],
   "source": [
    "msh.topology.create_connectivity(1, msh.topology.dim)\n",
    "facets = mesh.exterior_facet_indices(msh.topology)"
   ]
  },
  {
   "cell_type": "markdown",
   "id": "f03aef5a",
   "metadata": {},
   "source": [
    "We now find the degrees-of-freedom that are associated with the\n",
    "boundary facets using {py:func}`locate_dofs_topological\n",
    "<dolfinx.fem.locate_dofs_topological>`"
   ]
  },
  {
   "cell_type": "code",
   "execution_count": null,
   "id": "1b0f62d5",
   "metadata": {},
   "outputs": [],
   "source": [
    "dofs = fem.locate_dofs_topological(V=V, entity_dim=1, entities=facets)"
   ]
  },
  {
   "cell_type": "markdown",
   "id": "7b188000",
   "metadata": {},
   "source": [
    "and use {py:func}`dirichletbc <dolfinx.fem.dirichletbc>` to create a\n",
    "{py:class}`DirichletBCMetaClass <dolfinx.fem.DirichletBCMetaClass>`\n",
    "class that represents the boundary condition. On the boundary we prescribe\n",
    "the {py:class}`Function <dolfinx.fem.Function>` `uD`, which is obtained by\n",
    "interpolating the expression $u_{\\rm D}$ onto the finite element space $V$."
   ]
  },
  {
   "cell_type": "code",
   "execution_count": null,
   "id": "abb89245",
   "metadata": {},
   "outputs": [],
   "source": [
    "uD = fem.Function(V, dtype=ScalarType)\n",
    "uD.interpolate(lambda x: 1 + x[0]**2 + 2 * x[1]**2)\n",
    "bc = fem.dirichletbc(value=uD, dofs=dofs)"
   ]
  },
  {
   "cell_type": "markdown",
   "id": "b4c4a2aa",
   "metadata": {},
   "source": [
    "Next, we express the variational problem using UFL."
   ]
  },
  {
   "cell_type": "code",
   "execution_count": null,
   "id": "3cdf8f4b",
   "metadata": {},
   "outputs": [],
   "source": [
    "x = ufl.SpatialCoordinate(msh)\n",
    "u = ufl.TrialFunction(V)\n",
    "v = ufl.TestFunction(V)\n",
    "f = fem.Constant(msh, ScalarType(-6))\n",
    "a = inner(grad(u), grad(v)) * dx\n",
    "L = inner(f, v) * dx"
   ]
  },
  {
   "cell_type": "markdown",
   "id": "79869924",
   "metadata": {},
   "source": [
    "For the matrix-free solvers we also define a second linear form `M` as\n",
    "the {py:class}`action <ufl.action>` of the bilinear form $a$ onto an\n",
    "arbitrary {py:class}`Function <dolfinx.fem.Function>` `ui`. This linear\n",
    "form is defined as\n",
    "\n",
    "$$\n",
    "M(v) = a(u_i, v) \\quad \\text{for} \\; \\ u_i \\in V.\n",
    "$$"
   ]
  },
  {
   "cell_type": "code",
   "execution_count": null,
   "id": "63c65805",
   "metadata": {},
   "outputs": [],
   "source": [
    "ui = fem.Function(V)\n",
    "M = action(a, ui)"
   ]
  },
  {
   "cell_type": "markdown",
   "id": "1b976917",
   "metadata": {},
   "source": [
    "### Direct solver using the assembled matrix\n",
    "\n",
    "To validate the results of the matrix-free solvers, we first compute the\n",
    "solution with a direct solver using the assembled matrix."
   ]
  },
  {
   "cell_type": "code",
   "execution_count": null,
   "id": "2a0aa99b",
   "metadata": {},
   "outputs": [],
   "source": [
    "problem = fem.petsc.LinearProblem(a, L, bcs=[bc],\n",
    "                                  petsc_options={\"ksp_type\": \"preonly\",\n",
    "                                                 \"pc_type\": \"lu\"})\n",
    "uh_lu = problem.solve()"
   ]
  },
  {
   "cell_type": "markdown",
   "id": "c636e990",
   "metadata": {},
   "source": [
    "The error of the finite element solution `uh_lu` compared to the exact\n",
    "solution $u_{\\rm D}$ is calculated below in the $L_2$-norm."
   ]
  },
  {
   "cell_type": "code",
   "execution_count": null,
   "id": "a73f54c3",
   "metadata": {},
   "outputs": [],
   "source": [
    "def L2Norm(u):\n",
    "    return np.sqrt(msh.comm.allreduce(\n",
    "        fem.assemble_scalar(fem.form(inner(u, u) * dx)),\n",
    "        op=MPI.SUM))\n",
    "\n",
    "\n",
    "error_L2_lu = L2Norm(uh_lu - uD)\n",
    "if msh.comm.rank == 0:\n",
    "    print(\"Direct solver using the assembled matrix:\")\n",
    "    print(f\"L2-error against exact solution:  {error_L2_lu:.4e}\")"
   ]
  },
  {
   "cell_type": "markdown",
   "id": "d0c05b57",
   "metadata": {},
   "source": [
    "### Matrix-free Conjugate Gradient solvers\n",
    "\n",
    "For the matrix-free solvers, the RHS vector $b$ is first assembled based\n",
    "on the linear form $L$.  To account for the Dirichlet boundary conditions\n",
    "in $b$, we apply lifting, i.e. set $b - A x_{\\rm bc}$ as new RHS vector $b$.\n",
    "Since we want to avoid assembling the matrix `A`, we compute the necessary\n",
    "matrix-vector product using the linear form `M` implicitly."
   ]
  },
  {
   "cell_type": "code",
   "execution_count": null,
   "id": "6e2954c0",
   "metadata": {},
   "outputs": [],
   "source": [
    "b = fem.petsc.assemble_vector(fem.form(L))\n",
    "# Apply lifting: b <- b - A * x_bc\n",
    "fem.set_bc(ui.x.array, [bc], scale=-1)\n",
    "fem.petsc.assemble_vector(b, fem.form(M))\n",
    "b.ghostUpdate(addv=PETSc.InsertMode.ADD, mode=PETSc.ScatterMode.REVERSE)\n",
    "fem.petsc.set_bc(b, [bc], scale=0.0)\n",
    "b.ghostUpdate(addv=PETSc.InsertMode.INSERT, mode=PETSc.ScatterMode.FORWARD)"
   ]
  },
  {
   "cell_type": "markdown",
   "id": "3bd28ca5",
   "metadata": {},
   "source": [
    "In the following, different variants are presented in which the posed\n",
    "Poisson problem is solved using matrix-free CG solvers. In each case\n",
    "we want to achieve convergence up to a relative tolerence `rtol = 1e-6`\n",
    "within `max_iter = 200` iterations."
   ]
  },
  {
   "cell_type": "code",
   "execution_count": null,
   "id": "01a4915d",
   "metadata": {},
   "outputs": [],
   "source": [
    "rtol = 1e-6\n",
    "max_iter = 200"
   ]
  },
  {
   "cell_type": "markdown",
   "id": "16aa672b",
   "metadata": {},
   "source": [
    "#### 1. Implementation using PETSc vectors"
   ]
  },
  {
   "cell_type": "markdown",
   "id": "157b4721",
   "metadata": {},
   "source": [
    "To implement the matrix-free CG solver using *PETSc* vectors, we define the\n",
    "function `action_A` with which the matrix-vector product $y = A x$\n",
    "is computed."
   ]
  },
  {
   "cell_type": "code",
   "execution_count": null,
   "id": "88e1b533",
   "metadata": {},
   "outputs": [],
   "source": [
    "def action_A(x):\n",
    "    # Update coefficient ui of the linear form M\n",
    "    x.copy(ui.vector)\n",
    "    ui.vector.ghostUpdate(addv=PETSc.InsertMode.INSERT,\n",
    "                          mode=PETSc.ScatterMode.FORWARD)\n",
    "\n",
    "    # Compute action of A on x using the linear form M\n",
    "    y = fem.petsc.assemble_vector(fem.form(M))\n",
    "\n",
    "    # Set BC dofs to zero (effectively zeroes rows of A)\n",
    "    with y.localForm() as y_local:\n",
    "        fem.set_bc(y_local, [bc], scale=0.0)\n",
    "    y.ghostUpdate(addv=PETSc.InsertMode.ADD,\n",
    "                  mode=PETSc.ScatterMode.REVERSE)\n",
    "    return y"
   ]
  },
  {
   "cell_type": "markdown",
   "id": "2e12eb1f",
   "metadata": {},
   "source": [
    "This function can be used to replace the matrix-vector product in the\n",
    "plain Conjugate Gradient method by Hestenes and Stiefel."
   ]
  },
  {
   "cell_type": "code",
   "execution_count": null,
   "id": "b2661984",
   "metadata": {},
   "outputs": [],
   "source": [
    "def cg(action_A, b, x, max_iter=200, rtol=1e-6):\n",
    "    # Create working vectors\n",
    "    y = b.duplicate()\n",
    "    b.copy(y)\n",
    "\n",
    "    # Compute initial residual r0 = b - A x0\n",
    "    y = action_A(x)\n",
    "    r = b - y\n",
    "\n",
    "    # Create work vector for the search direction p\n",
    "    p = r.duplicate()\n",
    "    r.copy(p)\n",
    "    p.ghostUpdate(addv=PETSc.InsertMode.INSERT,\n",
    "                  mode=PETSc.ScatterMode.FORWARD)\n",
    "    r_norm2 = r.dot(r)\n",
    "    r0_norm2 = r_norm2\n",
    "    eps = rtol**2\n",
    "    k = 0\n",
    "    while k < max_iter:\n",
    "        k += 1\n",
    "\n",
    "        # Compute y = A p\n",
    "        y = action_A(p)\n",
    "\n",
    "        # Compute alpha = r.r / p.y\n",
    "        alpha = r_norm2 / p.dot(y)\n",
    "\n",
    "        # Update x (x <- x + alpha * p)\n",
    "        x.axpy(alpha, p)\n",
    "\n",
    "        # Update r (r <- r - alpha * y)\n",
    "        r.axpy(-alpha, y)\n",
    "\n",
    "        # Update residual norm\n",
    "        r_norm2_new = r.dot(r)\n",
    "        beta = r_norm2_new / r_norm2\n",
    "        r_norm2 = r_norm2_new\n",
    "\n",
    "        # Convergence test\n",
    "        if abs(r_norm2 / r0_norm2) < eps:\n",
    "            break\n",
    "\n",
    "        # Update p (p <- beta * p + r)\n",
    "        p.aypx(beta, r)\n",
    "    return k"
   ]
  },
  {
   "cell_type": "markdown",
   "id": "14913ff4",
   "metadata": {},
   "source": [
    "This matrix-free solver is now used to compute the finite element solution.\n",
    "After that, the error against the exact solution in the $L_2$-norm and the\n",
    "error of the coefficients against the solution obtained by the direct\n",
    "solver is computed."
   ]
  },
  {
   "cell_type": "code",
   "execution_count": null,
   "id": "60d864c4",
   "metadata": {
    "lines_to_next_cell": 0
   },
   "outputs": [],
   "source": [
    "uh_cg1 = fem.Function(V, dtype=ScalarType)\n",
    "iter_cg1 = cg(action_A, b, uh_cg1.vector, max_iter=max_iter, rtol=rtol)\n",
    "\n",
    "# Set BC values in the solution vectors\n",
    "uh_cg1.vector.ghostUpdate(addv=PETSc.InsertMode.INSERT,\n",
    "                          mode=PETSc.ScatterMode.FORWARD)\n",
    "with uh_cg1.vector.localForm() as y_local:\n",
    "    fem.set_bc(y_local, [bc], scale=1.0)\n",
    "\n",
    "# Print CG iteration number and errors\n",
    "error_L2_cg1 = L2Norm(uh_cg1 - uD)\n",
    "error_lu_cg1 = np.linalg.norm(uh_cg1.x.array - uh_lu.x.array)\n",
    "if msh.comm.rank == 0:\n",
    "    print(\"Matrix-free CG solver using PETSc vectors:\")\n",
    "    print(f\"CG iterations until convergence:  {iter_cg1}\")\n",
    "    print(f\"L2-error against exact solution:  {error_L2_cg1:.4e}\")\n",
    "    print(f\"Coeff. error against LU solution: {error_lu_cg1:.4e}\")\n",
    "assert error_L2_cg1 < rtol"
   ]
  },
  {
   "cell_type": "markdown",
   "id": "18e4fe8e",
   "metadata": {},
   "source": [
    "### 2. Implementation using the built-in PETSc CG solver\n",
    "\n",
    "Another approach is to use the existing CG solver of *PETSc* with a\n",
    "virtual *PETSc* matrix in order to obtain a matrix-free Conjugate\n",
    "Gradient solver. For this purpose, we create a class `Poisson` to\n",
    "emulate the assembled matrix `A` of the Poisson problem\n",
    "considered here."
   ]
  },
  {
   "cell_type": "code",
   "execution_count": null,
   "id": "861598b8",
   "metadata": {},
   "outputs": [],
   "source": [
    "class Poisson:\n",
    "    def create(self, A):\n",
    "        M, N = A.getSize()\n",
    "        assert M == N\n",
    "\n",
    "    def mult(self, A, x, y):\n",
    "        action_A(x).copy(y)"
   ]
  },
  {
   "cell_type": "markdown",
   "id": "b4d0b352",
   "metadata": {},
   "source": [
    "With this we can define a virtual *PETSc* matrix, where every\n",
    "matrix-vector product is implicitly performed matrix-free."
   ]
  },
  {
   "cell_type": "code",
   "execution_count": null,
   "id": "23662577",
   "metadata": {},
   "outputs": [],
   "source": [
    "A = PETSc.Mat()\n",
    "A.create(comm=msh.comm)\n",
    "A.setSizes(((b.local_size, PETSc.DETERMINE),\n",
    "            (b.local_size, PETSc.DETERMINE)), bsize=1)\n",
    "A.setType(PETSc.Mat.Type.PYTHON)\n",
    "A.setPythonContext(Poisson())\n",
    "A.setUp()"
   ]
  },
  {
   "cell_type": "markdown",
   "id": "232ec4c5",
   "metadata": {},
   "source": [
    "This matrix can then be passed as an operator to a predefined\n",
    "Conjugate Gradient solver in the KSP framework, automatically making\n",
    "that solver matrix-free."
   ]
  },
  {
   "cell_type": "code",
   "execution_count": null,
   "id": "3536fe25",
   "metadata": {},
   "outputs": [],
   "source": [
    "solver = PETSc.KSP().create(msh.comm)\n",
    "solver.setOperators(A)\n",
    "solver.setType(PETSc.KSP.Type.CG)\n",
    "solver.getPC().setType(PETSc.PC.Type.NONE)\n",
    "solver.setTolerances(rtol=rtol, max_it=max_iter)\n",
    "solver.setConvergenceHistory()\n",
    "\n",
    "\n",
    "# Set custom convergence test to resemble our CG solver exactly\n",
    "def converged(ksp, iter, r_norm):\n",
    "    rtol, _, _, max_iter = ksp.getTolerances()\n",
    "    if iter > max_iter:\n",
    "        return PETSc.KSP.ConvergedReason.DIVERGED_MAX_IT\n",
    "    r0_norm = ksp.getConvergenceHistory()[0]\n",
    "    if r_norm / r0_norm < rtol:\n",
    "        return PETSc.KSP.ConvergedReason.CONVERGED_RTOL\n",
    "    return PETSc.KSP.ConvergedReason.ITERATING\n",
    "\n",
    "\n",
    "solver.setConvergenceTest(converged)"
   ]
  },
  {
   "cell_type": "markdown",
   "id": "b3f312df",
   "metadata": {},
   "source": [
    "Again, the solver is applied and the errors are computed."
   ]
  },
  {
   "cell_type": "code",
   "execution_count": null,
   "id": "cbdd2f41",
   "metadata": {},
   "outputs": [],
   "source": [
    "uh_cg2 = fem.Function(V)\n",
    "solver.solve(b, uh_cg2.vector)\n",
    "\n",
    "# Set BC values in the solution vectors\n",
    "uh_cg2.vector.ghostUpdate(addv=PETSc.InsertMode.INSERT,\n",
    "                          mode=PETSc.ScatterMode.FORWARD)\n",
    "with uh_cg2.vector.localForm() as y_local:\n",
    "    fem.set_bc(y_local, [bc], scale=1.0)\n",
    "\n",
    "# Print CG iteration number and errors\n",
    "iter_cg2 = solver.getIterationNumber()\n",
    "error_L2_cg2 = L2Norm(uh_cg2 - uD)\n",
    "error_lu_cg2 = np.linalg.norm(uh_cg2.x.array - uh_lu.x.array)\n",
    "if msh.comm.rank == 0:\n",
    "    print(\"Matrix-free CG solver using the built-in PETSc KSP solver:\")\n",
    "    print(f\"CG iterations until convergence:  {iter_cg2}\")\n",
    "    print(f\"L2-error against exact solution:  {error_L2_cg2:.4e}\")\n",
    "    print(f\"Coeff. error against LU solution: {error_lu_cg2:.4e}\")\n",
    "assert error_L2_cg2 < rtol"
   ]
  },
  {
   "cell_type": "markdown",
   "id": "45566efa",
   "metadata": {},
   "source": [
    "### 3. Implementation using a custom PETSc KSP solver\n",
    "\n",
    "Furthermore, it is also possible to write a custom Conjugate Gradient\n",
    "solver in the KSP framework, which is matrix-free as before. For this\n",
    "purpose, a base class for a custom KSP solver is created."
   ]
  },
  {
   "cell_type": "code",
   "execution_count": null,
   "id": "95bd25fe",
   "metadata": {},
   "outputs": [],
   "source": [
    "class CustomKSP:\n",
    "    def create(self, ksp):\n",
    "        # Work vectors\n",
    "        self.vectors = []\n",
    "\n",
    "    def destroy(self, ksp):\n",
    "        for v in self.vectors:\n",
    "            v.destroy()\n",
    "\n",
    "    def setUp(self, ksp):\n",
    "        self.vectors = ksp.getWorkVecs(right=2, left=None)\n",
    "\n",
    "    def reset(self, ksp):\n",
    "        for v in self.vectors:\n",
    "            v.destroy()\n",
    "        del self.vectors\n",
    "\n",
    "    def converged(self, ksp, r):\n",
    "        k = ksp.getIterationNumber()\n",
    "        r_norm = r.norm()\n",
    "        ksp.setResidualNorm(r_norm)\n",
    "        ksp.logConvergenceHistory(r_norm)\n",
    "        ksp.monitor(k, r_norm)\n",
    "        reason = ksp.callConvergenceTest(k, r_norm)\n",
    "        if not reason:\n",
    "            ksp.setIterationNumber(k + 1)\n",
    "        else:\n",
    "            ksp.setConvergedReason(reason)\n",
    "        return reason"
   ]
  },
  {
   "cell_type": "markdown",
   "id": "ba8844c5",
   "metadata": {},
   "source": [
    "A user-defined Conjugate Gradient solver can then be defined based\n",
    "on this prototype."
   ]
  },
  {
   "cell_type": "code",
   "execution_count": null,
   "id": "b539af69",
   "metadata": {},
   "outputs": [],
   "source": [
    "class CG(CustomKSP):\n",
    "    def setUp(self, ksp):\n",
    "        super(CG, self).setUp(ksp)\n",
    "        p = self.vectors[0].duplicate()\n",
    "        y = p.duplicate()\n",
    "        self.vectors += [p, y]\n",
    "\n",
    "    def solve(self, ksp, b, x):\n",
    "        A, _ = ksp.getOperators()\n",
    "\n",
    "        # Create work vectors\n",
    "        r, _, p, y = self.vectors\n",
    "        b.copy(y)\n",
    "\n",
    "        # Compute initial residual r0 = b - A x0\n",
    "        A.mult(x, y)\n",
    "        r = b - y\n",
    "\n",
    "        # Create work vector for the search direction p\n",
    "        r.copy(p)\n",
    "        p.ghostUpdate(addv=PETSc.InsertMode.INSERT,\n",
    "                      mode=PETSc.ScatterMode.FORWARD)\n",
    "        r_norm2 = r.dot(r)\n",
    "        self.r0_norm2 = r_norm2\n",
    "        while not self.converged(ksp, r):\n",
    "\n",
    "            # Compute y = A p\n",
    "            A.mult(p, y)\n",
    "\n",
    "            # Compute alpha = r.r / p.y\n",
    "            alpha = r_norm2 / p.dot(y)\n",
    "\n",
    "            # Update x (x <- x + alpha * p)\n",
    "            x.axpy(alpha, p)\n",
    "\n",
    "            # Update x (r <- r - alpha * y)\n",
    "            r.axpy(-alpha, y)\n",
    "\n",
    "            # Update residual norm\n",
    "            r_norm2_new = r.dot(r)\n",
    "            beta = r_norm2_new / r_norm2\n",
    "            r_norm2 = r_norm2_new\n",
    "\n",
    "            # Update p (p <- beta * p + r)\n",
    "            p.aypx(beta, r)"
   ]
  },
  {
   "cell_type": "markdown",
   "id": "ff718eda",
   "metadata": {},
   "source": [
    "As before, a matrix-free solver can be achieved by passing the\n",
    "emulated matrix `A` as the operator."
   ]
  },
  {
   "cell_type": "code",
   "execution_count": null,
   "id": "69ebb2dd",
   "metadata": {},
   "outputs": [],
   "source": [
    "solver = PETSc.KSP().create(msh.comm)\n",
    "solver.setOperators(A)\n",
    "solver.setType(PETSc.KSP.Type.PYTHON)\n",
    "solver.setPythonContext(CG())\n",
    "solver.setTolerances(rtol=rtol, max_it=max_iter)\n",
    "solver.setConvergenceHistory()\n",
    "solver.setConvergenceTest(converged)"
   ]
  },
  {
   "cell_type": "markdown",
   "id": "78ea8bc9",
   "metadata": {},
   "source": [
    "The computed solution is again compared with the exact solution and\n",
    "the direct solver using the assembled matrix."
   ]
  },
  {
   "cell_type": "code",
   "execution_count": null,
   "id": "b307f8b4",
   "metadata": {},
   "outputs": [],
   "source": [
    "uh_cg3 = fem.Function(V)\n",
    "solver.solve(b, uh_cg3.vector)\n",
    "\n",
    "# Set BC values in the solution vectors\n",
    "uh_cg3.vector.ghostUpdate(addv=PETSc.InsertMode.INSERT,\n",
    "                          mode=PETSc.ScatterMode.FORWARD)\n",
    "with uh_cg3.vector.localForm() as y_local:\n",
    "    fem.set_bc(y_local, [bc], scale=1.0)\n",
    "\n",
    "# Print CG iteration number and errors\n",
    "iter_cg3 = solver.getIterationNumber()\n",
    "error_L2_cg3 = L2Norm(uh_cg3 - uD)\n",
    "error_lu_cg3 = np.linalg.norm(uh_cg3.x.array - uh_lu.x.array)\n",
    "if msh.comm.rank == 0:\n",
    "    print(\"Matrix-free CG solver using a custom PETSc KSP solver:\")\n",
    "    print(f\"CG iterations until convergence:  {iter_cg3}\")\n",
    "    print(f\"L2-error against exact solution:  {error_L2_cg3:.4e}\")\n",
    "    print(f\"Coeff. error against LU solution: {error_lu_cg3:.4e}\")\n",
    "assert error_L2_cg3 < rtol"
   ]
  }
 ],
 "metadata": {
  "kernelspec": {
   "display_name": "Python 3 (ipykernel)",
   "language": "python",
   "name": "python3"
  }
 },
 "nbformat": 4,
 "nbformat_minor": 5
}
