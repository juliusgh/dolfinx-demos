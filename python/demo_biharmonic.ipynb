{
 "cells": [
  {
   "cell_type": "markdown",
   "id": "087e17cb",
   "metadata": {},
   "source": [
    "# Biharmonic equation\n",
    "\n",
    "This demo is implemented in a single Python file,\n",
    "{download}`demo_biharmonic.py`, which contains both the variational forms\n",
    "and the solver. It illustrates how to:\n",
    "\n",
    "- Solve a linear partial differential equation\n",
    "- Use a discontinuous Galerkin method\n",
    "- Solve a fourth-order differential equation\n",
    "\n",
    "## Equation and problem definition\n",
    "\n",
    "### Strong formulation\n",
    "\n",
    "The biharmonic equation is a fourth-order elliptic equation.\n",
    "On the domain $\\Omega \\subset \\mathbb{R}^{d}$, $1 \\le d \\le 3$, it reads\n",
    "\n",
    "$$\n",
    "\\nabla^{4} u = f \\quad {\\rm in} \\ \\Omega,\n",
    "$$\n",
    "\n",
    "where $\\nabla^{4} \\equiv \\nabla^{2} \\nabla^{2}$ is the biharmonic operator\n",
    "and $f$ is a prescribed source term.\n",
    "To formulate a complete boundary value problem, the biharmonic equation\n",
    "must be complemented by suitable boundary conditions.\n",
    "\n",
    "### Weak formulation\n",
    "\n",
    "Multiplying the biharmonic equation by a test function and integrating\n",
    "by parts twice leads to a problem of second-order derivatives, which would\n",
    "require $H^{2}$ conforming (roughly $C^{1}$ continuous) basis functions.\n",
    "To solve the biharmonic equation using Lagrange finite element basis\n",
    "functions, the biharmonic equation can be split into two second-order\n",
    "equations (see the Mixed Poisson demo for a mixed method for the Poisson\n",
    "equation), or a variational formulation can be constructed that imposes\n",
    "weak continuity of normal derivatives between finite element cells.\n",
    "This demo uses a discontinuous Galerkin approach to impose continuity\n",
    "of the normal derivative weakly.\n",
    "\n",
    "Consider a triangulation $\\mathcal{T}$ of the domain $\\Omega$, where\n",
    "the set of interior facets is denoted by $\\mathcal{E}_h^{\\rm int}$.\n",
    "Functions evaluated on opposite sides of a facet are indicated by the\n",
    "subscripts $+$ and $-$.\n",
    "Using the standard continuous Lagrange finite element space\n",
    "\n",
    "$$\n",
    "V = \\left\\{v \\in H^{1}_{0}(\\Omega)\\,:\\, v \\in P_{k}(K) \\\n",
    "\\forall \\ K \\in \\mathcal{T} \\right\\}\n",
    "$$\n",
    "\n",
    "and considering the boundary conditions\n",
    "\n",
    "$$\n",
    "\\begin{align}\n",
    "u &= 0 \\quad {\\rm on} \\ \\partial\\Omega, \\\\\n",
    "\\nabla^{2} u &= 0 \\quad {\\rm on} \\ \\partial\\Omega,\n",
    "\\end{align}\n",
    "$$\n",
    "\n",
    "a weak formulation of the biharmonic problem reads: find $u \\in V$ such that\n",
    "\n",
    "$$\n",
    "a(u,v)=L(v) \\quad \\forall \\ v \\in V,\n",
    "$$\n",
    "\n",
    "where the bilinear form is\n",
    "\n",
    "$$\n",
    "a(u, v) =\n",
    "\\sum_{K \\in \\mathcal{T}} \\int_{K} \\nabla^{2} u \\nabla^{2} v \\, {\\rm d}x \\\n",
    "+\\sum_{E \\in \\mathcal{E}_h^{\\rm int}}\\left(\\int_{E} \\frac{\\alpha}{h_E}\n",
    "[\\!\\![ \\nabla u ]\\!\\!] [\\!\\![ \\nabla v ]\\!\\!] \\, {\\rm d}s\n",
    "- \\int_{E} \\left<\\nabla^{2} u \\right>[\\!\\![ \\nabla v ]\\!\\!]  \\, {\\rm d}s\n",
    "- \\int_{E} [\\!\\![ \\nabla u ]\\!\\!] \\left<\\nabla^{2} v \\right> \\,\n",
    "{\\rm d}s\\right)\n",
    "$$\n",
    "\n",
    "and the linear form is\n",
    "\n",
    "$$\n",
    "L(v) = \\int_{\\Omega} fv \\, {\\rm d}x.\n",
    "$$\n",
    "\n",
    "Furthermore, $\\left< u \\right> = \\frac{1}{2} (u_{+} + u_{-})$,\n",
    "$[\\!\\![ w ]\\!\\!]  = w_{+} \\cdot n_{+} + w_{-} \\cdot n_{-}$,\n",
    "$\\alpha \\ge 0$ is a penalty parameter and\n",
    "$h_E$ is a measure of the cell size.\n",
    "\n",
    "The input parameters for this demo are defined as follows:\n",
    "\n",
    "- $\\Omega = [0,1] \\times [0,1]$ (a unit square)\n",
    "- $\\alpha = 8.0$ (penalty parameter)\n",
    "- $f = 4.0 \\pi^4\\sin(\\pi x)\\sin(\\pi y)$ (source term)\n",
    "\n",
    "## Implementation\n",
    "\n",
    "We first import the modules and functions that the program uses:"
   ]
  },
  {
   "cell_type": "code",
   "execution_count": null,
   "id": "f30876a7",
   "metadata": {},
   "outputs": [],
   "source": [
    "import numpy as np\n",
    "\n",
    "import ufl\n",
    "from dolfinx import fem, io, mesh, plot\n",
    "from dolfinx.mesh import CellType, GhostMode\n",
    "from ufl import (CellDiameter, FacetNormal, avg, div, dS, dx, grad, inner,\n",
    "                 jump, pi, sin)\n",
    "\n",
    "from mpi4py import MPI\n",
    "from petsc4py.PETSc import ScalarType\n"
   ]
  },
  {
   "cell_type": "markdown",
   "id": "8894bb63",
   "metadata": {},
   "source": [
    "We begin by using {py:func}`create_rectangle\n",
    "<dolfinx.mesh.create_rectangle>` to create a rectangular\n",
    "{py:class}`Mesh <dolfinx.mesh.Mesh>` of the domain, and creating a\n",
    "finite element {py:class}`FunctionSpace <dolfinx.fem.FunctionSpace>`\n",
    "$V$ on the mesh."
   ]
  },
  {
   "cell_type": "code",
   "execution_count": null,
   "id": "3876ee16",
   "metadata": {},
   "outputs": [],
   "source": [
    "msh = mesh.create_rectangle(comm=MPI.COMM_WORLD,\n",
    "                            points=((0.0, 0.0), (1.0, 1.0)), n=(32, 32),\n",
    "                            cell_type=CellType.triangle,\n",
    "                            ghost_mode=GhostMode.shared_facet)\n",
    "V = fem.FunctionSpace(msh, (\"Lagrange\", 2))"
   ]
  },
  {
   "cell_type": "markdown",
   "id": "f5ffc9ab",
   "metadata": {},
   "source": [
    "The second argument to {py:class}`FunctionSpace\n",
    "<dolfinx.fem.FunctionSpace>` is a tuple consisting of `(family,\n",
    "degree)`, where `family` is the finite element family, and `degree`\n",
    "specifies the polynomial degree. in this case `V` consists of\n",
    "second-order, continuous Lagrange finite element functions.\n",
    "\n",
    "Next, we locate the mesh facets that lie on the boundary\n",
    "$\\Gamma_D = \\partial\\Omega$.\n",
    "We do this using using {py:func}`locate_entities_boundary\n",
    "<dolfinx.mesh.locate_entities_boundary>` and providing  a marker\n",
    "function that returns `True` for points `x` on the boundary and\n",
    "`False` otherwise."
   ]
  },
  {
   "cell_type": "code",
   "execution_count": null,
   "id": "4cf87079",
   "metadata": {},
   "outputs": [],
   "source": [
    "facets = mesh.locate_entities_boundary(\n",
    "    msh, dim=1,\n",
    "    marker=lambda x: np.logical_or.reduce((\n",
    "        np.isclose(x[0], 0.0),\n",
    "        np.isclose(x[0], 1.0),\n",
    "        np.isclose(x[1], 0.0),\n",
    "        np.isclose(x[1], 1.0)\n",
    "    ))\n",
    ")"
   ]
  },
  {
   "cell_type": "markdown",
   "id": "511064e6",
   "metadata": {},
   "source": [
    "We now find the degrees-of-freedom that are associated with the\n",
    "boundary facets using {py:func}`locate_dofs_topological\n",
    "<dolfinx.fem.locate_dofs_topological>`"
   ]
  },
  {
   "cell_type": "code",
   "execution_count": null,
   "id": "10d1ecef",
   "metadata": {},
   "outputs": [],
   "source": [
    "dofs = fem.locate_dofs_topological(V=V, entity_dim=1, entities=facets)"
   ]
  },
  {
   "cell_type": "markdown",
   "id": "f0de3761",
   "metadata": {},
   "source": [
    "and use {py:func}`dirichletbc <dolfinx.fem.dirichletbc>` to create a\n",
    "{py:class}`DirichletBCMetaClass <dolfinx.fem.DirichletBCMetaClass>`\n",
    "class that represents the boundary condition. In this case, we impose\n",
    "Dirichlet boundary conditions with value $0$ on the entire boundary\n",
    "$\\partial\\Omega$."
   ]
  },
  {
   "cell_type": "code",
   "execution_count": null,
   "id": "f2433d50",
   "metadata": {},
   "outputs": [],
   "source": [
    "bc = fem.dirichletbc(value=ScalarType(0), dofs=dofs, V=V)"
   ]
  },
  {
   "cell_type": "markdown",
   "id": "79c54753",
   "metadata": {},
   "source": [
    "Next, we express the variational problem using UFL.\n",
    "\n",
    "First, the penalty parameter $\\alpha$ is defined. In addition, we define a\n",
    "variable `h` for the cell diameter $h_E$, a variable `n`for the\n",
    "outward-facing normal vector $n$ and a variable `h_avg` for the\n",
    "average size of cells sharing a facet\n",
    "$\\left< h \\right> = \\frac{1}{2} (h_{+} + h_{-})$. Here, the UFL syntax\n",
    "`('+')` and `('-')` restricts a function to the `('+')` and `('-')`\n",
    "sides of a facet."
   ]
  },
  {
   "cell_type": "code",
   "execution_count": null,
   "id": "0096eb04",
   "metadata": {},
   "outputs": [],
   "source": [
    "alpha = ScalarType(8.0)\n",
    "h = CellDiameter(msh)\n",
    "n = FacetNormal(msh)\n",
    "h_avg = (h('+') + h('-')) / 2.0"
   ]
  },
  {
   "cell_type": "markdown",
   "id": "b281cc4c",
   "metadata": {},
   "source": [
    "After that, we can define the variational problem consisting of the bilinear\n",
    "form $a$ and the linear form $L$. The source term is prescribed as\n",
    "$f = 4.0 \\pi^4\\sin(\\pi x)\\sin(\\pi y)$. Note that with `dS`, integration is\n",
    "carried out over all the interior facets $\\mathcal{E}_h^{\\rm int}$, whereas\n",
    "with `ds` it would be only the facets on the boundary of the domain, i.e.\n",
    "$\\partial\\Omega$. The jump operator\n",
    "$[\\!\\![ w ]\\!\\!] = w_{+} \\cdot n_{+} + w_{-} \\cdot n_{-}$ w.r.t. the\n",
    "outward-facing normal vector $n$ is in UFL available as `jump(w, n)`."
   ]
  },
  {
   "cell_type": "code",
   "execution_count": null,
   "id": "e7a8b197",
   "metadata": {},
   "outputs": [],
   "source": [
    "# Define variational problem\n",
    "u = ufl.TrialFunction(V)\n",
    "v = ufl.TestFunction(V)\n",
    "x = ufl.SpatialCoordinate(msh)\n",
    "f = 4.0 * pi**4 * sin(pi * x[0]) * sin(pi * x[1])\n",
    "\n",
    "a = inner(div(grad(u)), div(grad(v))) * dx \\\n",
    "    - inner(avg(div(grad(u))), jump(grad(v), n)) * dS \\\n",
    "    - inner(jump(grad(u), n), avg(div(grad(v)))) * dS \\\n",
    "    + alpha / h_avg * inner(jump(grad(u), n), jump(grad(v), n)) * dS\n",
    "L = inner(f, v) * dx"
   ]
  },
  {
   "cell_type": "markdown",
   "id": "5706e0f5",
   "metadata": {},
   "source": [
    "We create a {py:class}`LinearProblem <dolfinx.fem.LinearProblem>`\n",
    "object that brings together the variational problem, the Dirichlet\n",
    "boundary condition, and which specifies the linear solver. In this\n",
    "case we use a direct (LU) solver. The {py:func}`solve\n",
    "<dolfinx.fem.LinearProblem.solve>` will compute a solution."
   ]
  },
  {
   "cell_type": "code",
   "execution_count": null,
   "id": "1f990277",
   "metadata": {},
   "outputs": [],
   "source": [
    "problem = fem.petsc.LinearProblem(a, L, bcs=[bc],\n",
    "                                  petsc_options={\"ksp_type\": \"preonly\",\n",
    "                                                 \"pc_type\": \"lu\"})\n",
    "uh = problem.solve()"
   ]
  },
  {
   "cell_type": "markdown",
   "id": "336a0e8e",
   "metadata": {},
   "source": [
    "The solution can be written to a  {py:class}`XDMFFile\n",
    "<dolfinx.io.XDMFFile>` file visualization with ParaView or VisIt"
   ]
  },
  {
   "cell_type": "code",
   "execution_count": null,
   "id": "815b4af8",
   "metadata": {},
   "outputs": [],
   "source": [
    "with io.XDMFFile(msh.comm, \"out_biharmonic/biharmonic.xdmf\", \"w\") as file:\n",
    "    file.write_mesh(msh)\n",
    "    file.write_function(uh)"
   ]
  },
  {
   "cell_type": "markdown",
   "id": "21b7d9a7",
   "metadata": {},
   "source": [
    "and displayed using [pyvista](https://docs.pyvista.org/)."
   ]
  },
  {
   "cell_type": "code",
   "execution_count": null,
   "id": "d39b1ee6",
   "metadata": {},
   "outputs": [],
   "source": [
    "try:\n",
    "    import pyvista\n",
    "    cells, types, x = plot.create_vtk_mesh(V)\n",
    "    grid = pyvista.UnstructuredGrid(cells, types, x)\n",
    "    grid.point_data[\"u\"] = uh.x.array.real\n",
    "    grid.set_active_scalars(\"u\")\n",
    "    plotter = pyvista.Plotter()\n",
    "    plotter.add_mesh(grid, show_edges=True)\n",
    "    warped = grid.warp_by_scalar()\n",
    "    plotter.add_mesh(warped)\n",
    "    if pyvista.OFF_SCREEN:\n",
    "        pyvista.start_xvfb(wait=0.1)\n",
    "        plotter.screenshot(\"uh_biharmonic.png\")\n",
    "    else:\n",
    "        plotter.show()\n",
    "\n",
    "except ModuleNotFoundError:\n",
    "    print(\"'pyvista' is required to visualise the solution\")\n",
    "    print(\"Install 'pyvista' with pip: 'python3 -m pip install pyvista'\")"
   ]
  }
 ],
 "metadata": {
  "kernelspec": {
   "display_name": "Python 3 (ipykernel)",
   "language": "python",
   "name": "python3"
  }
 },
 "nbformat": 4,
 "nbformat_minor": 5
}
